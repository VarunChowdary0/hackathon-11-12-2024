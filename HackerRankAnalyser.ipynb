{
 "cells": [
  {
   "cell_type": "code",
   "execution_count": 38,
   "metadata": {},
   "outputs": [],
   "source": [
    "import pandas as pd\n",
    "import datetime"
   ]
  },
  {
   "cell_type": "code",
   "execution_count": 39,
   "metadata": {},
   "outputs": [],
   "source": [
    "date = datetime.datetime.date(datetime.datetime.now())"
   ]
  },
  {
   "cell_type": "code",
   "execution_count": 40,
   "metadata": {},
   "outputs": [],
   "source": [
    "today = f\"{str(date.day)}-{str(date.month)}-{str(date.year)}\""
   ]
  },
  {
   "cell_type": "code",
   "execution_count": 41,
   "metadata": {},
   "outputs": [],
   "source": [
    "df = pd.read_csv('./results/hackerRank_at-'+today+\".csv\")"
   ]
  },
  {
   "cell_type": "code",
   "execution_count": 42,
   "metadata": {},
   "outputs": [
    {
     "data": {
      "text/plain": [
       "Index(['Unnamed: 0', 'username', 'oneStarBadge', 'twoStarBadge',\n",
       "       'threeStarBadge', 'fourStarBadge', 'fiveStarBadge', 'basic_Certificate',\n",
       "       'intermediate_Certificate', 'adavanced_Certificate'],\n",
       "      dtype='object')"
      ]
     },
     "execution_count": 42,
     "metadata": {},
     "output_type": "execute_result"
    }
   ],
   "source": [
    "df.columns"
   ]
  },
  {
   "cell_type": "code",
   "execution_count": 43,
   "metadata": {},
   "outputs": [
    {
     "data": {
      "text/html": [
       "<div>\n",
       "<style scoped>\n",
       "    .dataframe tbody tr th:only-of-type {\n",
       "        vertical-align: middle;\n",
       "    }\n",
       "\n",
       "    .dataframe tbody tr th {\n",
       "        vertical-align: top;\n",
       "    }\n",
       "\n",
       "    .dataframe thead th {\n",
       "        text-align: right;\n",
       "    }\n",
       "</style>\n",
       "<table border=\"1\" class=\"dataframe\">\n",
       "  <thead>\n",
       "    <tr style=\"text-align: right;\">\n",
       "      <th></th>\n",
       "      <th>Unnamed: 0</th>\n",
       "      <th>oneStarBadge</th>\n",
       "      <th>twoStarBadge</th>\n",
       "      <th>threeStarBadge</th>\n",
       "      <th>fourStarBadge</th>\n",
       "      <th>fiveStarBadge</th>\n",
       "      <th>basic_Certificate</th>\n",
       "      <th>intermediate_Certificate</th>\n",
       "      <th>adavanced_Certificate</th>\n",
       "    </tr>\n",
       "  </thead>\n",
       "  <tbody>\n",
       "    <tr>\n",
       "      <th>count</th>\n",
       "      <td>805.000000</td>\n",
       "      <td>805.000000</td>\n",
       "      <td>805.000000</td>\n",
       "      <td>805.000000</td>\n",
       "      <td>805.000000</td>\n",
       "      <td>805.000000</td>\n",
       "      <td>805.000000</td>\n",
       "      <td>805.000000</td>\n",
       "      <td>805.000000</td>\n",
       "    </tr>\n",
       "    <tr>\n",
       "      <th>mean</th>\n",
       "      <td>402.000000</td>\n",
       "      <td>0.228571</td>\n",
       "      <td>0.247205</td>\n",
       "      <td>0.247205</td>\n",
       "      <td>0.228571</td>\n",
       "      <td>0.243478</td>\n",
       "      <td>0.484472</td>\n",
       "      <td>0.021118</td>\n",
       "      <td>0.008696</td>\n",
       "    </tr>\n",
       "    <tr>\n",
       "      <th>std</th>\n",
       "      <td>232.527776</td>\n",
       "      <td>0.546293</td>\n",
       "      <td>0.498513</td>\n",
       "      <td>0.536951</td>\n",
       "      <td>0.508562</td>\n",
       "      <td>0.496603</td>\n",
       "      <td>0.920372</td>\n",
       "      <td>0.143867</td>\n",
       "      <td>0.092902</td>\n",
       "    </tr>\n",
       "    <tr>\n",
       "      <th>min</th>\n",
       "      <td>0.000000</td>\n",
       "      <td>0.000000</td>\n",
       "      <td>0.000000</td>\n",
       "      <td>0.000000</td>\n",
       "      <td>0.000000</td>\n",
       "      <td>0.000000</td>\n",
       "      <td>0.000000</td>\n",
       "      <td>0.000000</td>\n",
       "      <td>0.000000</td>\n",
       "    </tr>\n",
       "    <tr>\n",
       "      <th>25%</th>\n",
       "      <td>201.000000</td>\n",
       "      <td>0.000000</td>\n",
       "      <td>0.000000</td>\n",
       "      <td>0.000000</td>\n",
       "      <td>0.000000</td>\n",
       "      <td>0.000000</td>\n",
       "      <td>0.000000</td>\n",
       "      <td>0.000000</td>\n",
       "      <td>0.000000</td>\n",
       "    </tr>\n",
       "    <tr>\n",
       "      <th>50%</th>\n",
       "      <td>402.000000</td>\n",
       "      <td>0.000000</td>\n",
       "      <td>0.000000</td>\n",
       "      <td>0.000000</td>\n",
       "      <td>0.000000</td>\n",
       "      <td>0.000000</td>\n",
       "      <td>0.000000</td>\n",
       "      <td>0.000000</td>\n",
       "      <td>0.000000</td>\n",
       "    </tr>\n",
       "    <tr>\n",
       "      <th>75%</th>\n",
       "      <td>603.000000</td>\n",
       "      <td>0.000000</td>\n",
       "      <td>0.000000</td>\n",
       "      <td>0.000000</td>\n",
       "      <td>0.000000</td>\n",
       "      <td>0.000000</td>\n",
       "      <td>1.000000</td>\n",
       "      <td>0.000000</td>\n",
       "      <td>0.000000</td>\n",
       "    </tr>\n",
       "    <tr>\n",
       "      <th>max</th>\n",
       "      <td>804.000000</td>\n",
       "      <td>3.000000</td>\n",
       "      <td>3.000000</td>\n",
       "      <td>3.000000</td>\n",
       "      <td>3.000000</td>\n",
       "      <td>2.000000</td>\n",
       "      <td>5.000000</td>\n",
       "      <td>1.000000</td>\n",
       "      <td>1.000000</td>\n",
       "    </tr>\n",
       "  </tbody>\n",
       "</table>\n",
       "</div>"
      ],
      "text/plain": [
       "       Unnamed: 0  oneStarBadge  twoStarBadge  threeStarBadge  fourStarBadge  \\\n",
       "count  805.000000    805.000000    805.000000      805.000000     805.000000   \n",
       "mean   402.000000      0.228571      0.247205        0.247205       0.228571   \n",
       "std    232.527776      0.546293      0.498513        0.536951       0.508562   \n",
       "min      0.000000      0.000000      0.000000        0.000000       0.000000   \n",
       "25%    201.000000      0.000000      0.000000        0.000000       0.000000   \n",
       "50%    402.000000      0.000000      0.000000        0.000000       0.000000   \n",
       "75%    603.000000      0.000000      0.000000        0.000000       0.000000   \n",
       "max    804.000000      3.000000      3.000000        3.000000       3.000000   \n",
       "\n",
       "       fiveStarBadge  basic_Certificate  intermediate_Certificate  \\\n",
       "count     805.000000         805.000000                805.000000   \n",
       "mean        0.243478           0.484472                  0.021118   \n",
       "std         0.496603           0.920372                  0.143867   \n",
       "min         0.000000           0.000000                  0.000000   \n",
       "25%         0.000000           0.000000                  0.000000   \n",
       "50%         0.000000           0.000000                  0.000000   \n",
       "75%         0.000000           1.000000                  0.000000   \n",
       "max         2.000000           5.000000                  1.000000   \n",
       "\n",
       "       adavanced_Certificate  \n",
       "count             805.000000  \n",
       "mean                0.008696  \n",
       "std                 0.092902  \n",
       "min                 0.000000  \n",
       "25%                 0.000000  \n",
       "50%                 0.000000  \n",
       "75%                 0.000000  \n",
       "max                 1.000000  "
      ]
     },
     "execution_count": 43,
     "metadata": {},
     "output_type": "execute_result"
    }
   ],
   "source": [
    "df.describe()"
   ]
  },
  {
   "cell_type": "code",
   "execution_count": 44,
   "metadata": {},
   "outputs": [],
   "source": [
    "BadgeCount = {\n",
    "    \"NumberOfoneStarBadge\": int(df['oneStarBadge'].sum()),\n",
    "    \"NumberOftwoStarBadge\": int(df['twoStarBadge'].sum()),\n",
    "    \"NumberOfthreeStarBadge\": int(df['threeStarBadge'].sum()),\n",
    "    \"NumberOffourStarBadge\": int(df['fourStarBadge'].sum()),\n",
    "    \"NumberOffiveStarBadge\": int(df['fiveStarBadge'].sum()),\n",
    "    \"NumberOfbasic_Certificate\": int(df['basic_Certificate'].sum()),\n",
    "    \"NumberOfintermediate_Certificate\": int(df['intermediate_Certificate'].sum()),\n",
    "    \"NumberOfadavanced_Certificate\": int(df['adavanced_Certificate'].sum())\n",
    "}\n"
   ]
  },
  {
   "cell_type": "code",
   "execution_count": 45,
   "metadata": {},
   "outputs": [
    {
     "data": {
      "text/plain": [
       "{'NumberOfoneStarBadge': 184,\n",
       " 'NumberOftwoStarBadge': 199,\n",
       " 'NumberOfthreeStarBadge': 199,\n",
       " 'NumberOffourStarBadge': 184,\n",
       " 'NumberOffiveStarBadge': 196,\n",
       " 'NumberOfbasic_Certificate': 390,\n",
       " 'NumberOfintermediate_Certificate': 17,\n",
       " 'NumberOfadavanced_Certificate': 7}"
      ]
     },
     "execution_count": 45,
     "metadata": {},
     "output_type": "execute_result"
    }
   ],
   "source": [
    "BadgeCount"
   ]
  },
  {
   "cell_type": "code",
   "execution_count": 46,
   "metadata": {},
   "outputs": [],
   "source": [
    "import matplotlib.pyplot as plt"
   ]
  },
  {
   "cell_type": "code",
   "execution_count": 61,
   "metadata": {},
   "outputs": [],
   "source": [
    "teal_palette = [\n",
    "          '#e0f5f8',\n",
    "          '#b8e4e5',\n",
    "          '#90d3d4',\n",
    "          '#68c2c3',\n",
    "          '#40b1b2',\n",
    "        ]\n",
    "plt.rcParams['axes.prop_cycle'] = plt.cycler(color=teal_palette[::-1])"
   ]
  },
  {
   "cell_type": "code",
   "execution_count": 62,
   "metadata": {},
   "outputs": [],
   "source": [
    "badge_labels = ['1 Star', '2 Star', '3 Star', '4 Star', '5 Star']\n",
    "badge_values = [\n",
    "    BadgeCount[\"NumberOfoneStarBadge\"],\n",
    "    BadgeCount[\"NumberOftwoStarBadge\"],\n",
    "    BadgeCount[\"NumberOfthreeStarBadge\"],\n",
    "    BadgeCount[\"NumberOffourStarBadge\"],\n",
    "    BadgeCount[\"NumberOffiveStarBadge\"]\n",
    "]\n",
    "\n",
    "certificate_labels = ['Basic', 'Intermediate', 'Advanced']\n",
    "certificate_values = [\n",
    "    BadgeCount[\"NumberOfbasic_Certificate\"],\n",
    "    BadgeCount[\"NumberOfintermediate_Certificate\"],\n",
    "    BadgeCount[\"NumberOfadavanced_Certificate\"]\n",
    "]"
   ]
  },
  {
   "cell_type": "code",
   "execution_count": null,
   "metadata": {},
   "outputs": [
    {
     "data": {
      "image/png": "[encoded data removed]",
      "text/plain": [
       "<Figure size 1200x600 with 2 Axes>"
      ]
     },
     "metadata": {},
     "output_type": "display_data"
    }
   ],
   "source": [
    "plt.figure(figsize=(12, 6))\n",
    "\n",
    "plt.subplot(1, 2, 1)\n",
    "bars = plt.bar(badge_labels, badge_values,\n",
    "                color=teal_palette, edgecolor='#72c0c1', linewidth=1.5)\n",
    "plt.title('Badge Count')\n",
    "plt.xlabel('Badge Type')\n",
    "plt.ylabel('Count')\n",
    "plt.grid(axis='y', linestyle='--', alpha=0.7)\n",
    "for bar in bars:\n",
    "    plt.text(bar.get_x() + bar.get_width() / 2, bar.get_height() + 0.5,\n",
    "             str(bar.get_height()), ha='center', va='bottom', fontsize=10)\n",
    "\n",
    "plt.subplot(1, 2, 2)\n",
    "bars = plt.bar(certificate_labels, certificate_values, \n",
    "               color=teal_palette[::-1], edgecolor='#72c0c1', linewidth=1.5)\n",
    "plt.title('Certificate Count')\n",
    "plt.xlabel('Certificate Type')\n",
    "plt.ylabel('Count')\n",
    "plt.grid(axis='y', linestyle='--', alpha=0.7)\n",
    "\n",
    "for bar in bars:\n",
    "    plt.text(bar.get_x() + bar.get_width() / 2, bar.get_height() + 0.5,\n",
    "             str(bar.get_height()), ha='center', va='bottom', fontsize=10)\n",
    "\n",
    "plt.tight_layout()\n",
    "plt.show()"
   ]
  }
 ],
 "metadata": {
  "kernelspec": {
   "display_name": "hackathon-11-12-2024",
   "language": "python",
   "name": "python3"
  },
  "language_info": {
   "codemirror_mode": {
    "name": "ipython",
    "version": 3
   },
   "file_extension": ".py",
   "mimetype": "text/x-python",
   "name": "python",
   "nbconvert_exporter": "python",
   "pygments_lexer": "ipython3",
   "version": "3.13.0"
  }
 },
 "nbformat": 4,
 "nbformat_minor": 2
}
